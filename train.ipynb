{
  "nbformat": 4,
  "nbformat_minor": 0,
  "metadata": {
    "colab": {
      "name": "lenet5.ipynb",
      "provenance": [],
      "collapsed_sections": []
    },
    "kernelspec": {
      "name": "python3",
      "display_name": "Python 3"
    },
    "language_info": {
      "name": "python"
    }
  },
  "cells": [
    {
      "cell_type": "markdown",
      "source": [
        "# **LeNet-5 Architecture**\n",
        "\n",
        "![architecture](https://miro.medium.com/max/1400/1*-NnRGtEsiLHfNnUCSXoa-Q.png)\n",
        "\n",
        "\n",
        "References:\n",
        "\n",
        "https://russianblogs.com/article/71181560328/"
      ],
      "metadata": {
        "id": "fPJ373PRAMlA"
      }
    },
    {
      "cell_type": "code",
      "execution_count": null,
      "metadata": {
        "id": "TmN1eyag_hk8"
      },
      "outputs": [],
      "source": [
        "import tensorflow as tf\n",
        "from tensorflow.keras import Sequential, layers, losses, optimizers, datasets\n",
        "from tensorflow.keras.callbacks import TensorBoard"
      ]
    },
    {
      "cell_type": "code",
      "source": [
        "def preprocess(x, y):\n",
        "  x = tf.cast(x, dtype=tf.float32) / 255\n",
        "  x = tf.expand_dims(x, axis=3)\n",
        "  y = tf.cast(y, dtype=tf.int32)\n",
        "  y = tf.one_hot(y, depth=10)\n",
        "  return x,y"
      ],
      "metadata": {
        "id": "Yb8ZYhfqC4vA"
      },
      "execution_count": null,
      "outputs": []
    },
    {
      "cell_type": "code",
      "source": [
        "(x, y), (x_test, y_test) = datasets.mnist.load_data()\n",
        "batchsz = 1000\n",
        "\n",
        "\n",
        "train_db = tf.data.Dataset.from_tensor_slices((x, y))\n",
        "train_db = train_db.shuffle(10000)\n",
        "train_db = train_db.batch(batchsz)\n",
        "train_db = train_db.map(preprocess)\n",
        "test_db = tf.data.Dataset.from_tensor_slices((x_test, y_test))\n",
        "test_db = test_db.batch(batchsz).map(preprocess)\n",
        "\n",
        "\n",
        "model = Sequential([\n",
        "  layers.Conv2D(6, kernel_size=5, strides=1, activation=\"relu\"),\n",
        "  layers.MaxPool2D(pool_size=2, strides=2),\n",
        "  layers.Conv2D(16, kernel_size=5, strides=1, activation=\"relu\"),\n",
        "  layers.MaxPool2D(pool_size=2, strides=2),\n",
        "  layers.Flatten(),\n",
        "  layers.Dense(120, activation=\"relu\"),\n",
        "  layers.Dense(84, activation=\"relu\"),\n",
        "  layers.Dense(10)\n",
        "])\n",
        "model.build(input_shape=(None, 28, 28, 1))\n",
        "model.summary()\n",
        "model.compile(\n",
        "    optimizer=optimizers.Adam(learning_rate=1e-3),\n",
        "    loss=tf.losses.CategoricalCrossentropy(from_logits=True),\n",
        "    metrics=['accuracy']\n",
        ")\n",
        "model.fit(\n",
        "    train_db,\n",
        "    epochs=5,\n",
        "    validation_data=test_db,\n",
        "    validation_freq=2\n",
        ")\n",
        "# model.evaluate(test_db)\n",
        "\n",
        "\n",
        "model.save('model')"
      ],
      "metadata": {
        "id": "8Ouu-aHpD5mT"
      },
      "execution_count": null,
      "outputs": []
    }
  ]
}